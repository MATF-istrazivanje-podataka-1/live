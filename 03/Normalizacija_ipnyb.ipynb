{
  "nbformat": 4,
  "nbformat_minor": 0,
  "metadata": {
    "colab": {
      "provenance": []
    },
    "kernelspec": {
      "name": "python3",
      "display_name": "Python 3"
    },
    "language_info": {
      "name": "python"
    }
  },
  "cells": [
    {
      "cell_type": "markdown",
      "source": [
        "# Normalizacija\n",
        "Cilj normalizacije je transformacija atributa da budu na sličnim skalama. \n",
        "\n",
        "Četiri korisne tehnike normalizacije:\n",
        "* Skaliranje na određeni raspon\n",
        "* Odsecanje\n",
        "* Log skaliranje\n",
        "* Z-score\n",
        "\n",
        "Prikaz ovih tehnika će biti nad skupom podataka [1985 Ward's Automotive Yearbook](\"https://archive.ics.uci.edu/ml/datasets/Automobile\") koji se nalazi na UCI Machine Learning Repository."
      ],
      "metadata": {
        "id": "Wt6I9PCrqjDg"
      }
    },
    {
      "cell_type": "code",
      "source": [
        "import pandas as pd\n",
        "import numpy as np\n",
        "import matplotlib.pyplot as plt"
      ],
      "metadata": {
        "id": "WWykGHWMriZD"
      },
      "execution_count": null,
      "outputs": []
    },
    {
      "cell_type": "code",
      "source": [
        "# Ucitavanje skupa\n",
        "car # = CODE HERE \n",
        "car.shape"
      ],
      "metadata": {
        "colab": {
          "base_uri": "https://localhost:8080/"
        },
        "id": "jEQJQ230rRrp",
        "outputId": "78af057a-f687-4224-c03f-528cb937e504"
      },
      "execution_count": null,
      "outputs": [
        {
          "output_type": "execute_result",
          "data": {
            "text/plain": [
              "(205, 26)"
            ]
          },
          "metadata": {},
          "execution_count": 3
        }
      ]
    },
    {
      "cell_type": "code",
      "source": [
        "# Fokusiraćemo se na atribut price\n",
        "car['price'].describe()"
      ],
      "metadata": {
        "colab": {
          "base_uri": "https://localhost:8080/"
        },
        "id": "1xJCdBPNrqI4",
        "outputId": "1e038251-f94b-4758-88a6-b4edf3c9dba0"
      },
      "execution_count": null,
      "outputs": [
        {
          "output_type": "execute_result",
          "data": {
            "text/plain": [
              "count     205\n",
              "unique    187\n",
              "top         ?\n",
              "freq        4\n",
              "Name: price, dtype: object"
            ]
          },
          "metadata": {},
          "execution_count": 4
        }
      ]
    },
    {
      "cell_type": "code",
      "source": [
        "# Imamo nedostajuće vrednosti, vidimo i da nije numericki tip\n",
        "# CODE HERE"
      ],
      "metadata": {
        "id": "t9dpF74hrzpw"
      },
      "execution_count": null,
      "outputs": []
    },
    {
      "cell_type": "code",
      "source": [
        "# Pošto ćemo imati više sličnih plotova\n",
        "def plot_hist(X, title):\n",
        "  plt.title(title)\n",
        "  X.hist(bins=45)\n",
        "  plt.xlabel('cena')"
      ],
      "metadata": {
        "id": "M1JTiDAG7qiP"
      },
      "execution_count": null,
      "outputs": []
    },
    {
      "cell_type": "code",
      "source": [
        "# Plotovati histogram pre normalizacije\n",
        "plot_hist(car['price'], \"Cena pre normalizacije\")"
      ],
      "metadata": {
        "colab": {
          "base_uri": "https://localhost:8080/",
          "height": 295
        },
        "id": "mdfkYqMFsJVe",
        "outputId": "fcf0a9c0-9a55-41ae-ca01-3d3c8ac755c1"
      },
      "execution_count": null,
      "outputs": [
        {
          "output_type": "display_data",
          "data": {
            "text/plain": [
              "<Figure size 432x288 with 1 Axes>"
            ],
            "image/png": "[encoded data removed]"
          },
          "metadata": {
            "needs_background": "light"
          }
        }
      ]
    },
    {
      "cell_type": "markdown",
      "source": [
        "## MinMax scaler\n",
        "\n",
        "Transformisemo vrednosti atributa iz prirodnog raspona [min, max], na raspon [0, 1].\n",
        "\n",
        "Formula:\n",
        "\n",
        "  $x^{'} = \\frac{x-min}{max-min}$\n",
        "\n",
        "\n",
        "Pogodan za korišćenje:\n",
        "\n",
        "* Ako približno znamo gornje i donje ograničenje.\n",
        "* Ako podaci sadrže malo (ili ne sadrže) autlajere.\n",
        "* Ako su podaci približno uniformno distribuirani na rasponu.\n",
        "\n",
        "Primer kada bi ovaj tip normalizacije bio dobar: godine.\n",
        "Primer kada bi ovaj tip normalizacije bio loš: godišnja primanja.\n"
      ],
      "metadata": {
        "id": "R0BCCC3LuDtx"
      }
    },
    {
      "cell_type": "code",
      "source": [
        "def minmax(X):\n",
        "  #CODE HERE\n",
        "  pass"
      ],
      "metadata": {
        "id": "Rdt3uZzAscIO"
      },
      "execution_count": null,
      "outputs": []
    },
    {
      "cell_type": "code",
      "source": [
        "car_mm = minmax(car['price'])\n",
        "plot_hist(car_mm, \"Cena nakon minmax normalizacije\")"
      ],
      "metadata": {
        "id": "8mK-UcykviJY"
      },
      "execution_count": null,
      "outputs": []
    },
    {
      "cell_type": "markdown",
      "source": [
        "## Odsecanje\n",
        "\n",
        "Ako podaci imaju ekstremne autlajere možemo koristiti odsecanje. Tada se sve vrednosti manje od minimalne zadate slikaju u min. Analogno važi za max.\n",
        "\n",
        "Formula:\n",
        "\n",
        "$clipping(x, min, max) = \\left\\{ \n",
        "  \\begin{array}{ c l }\n",
        "    min & x < min \\\\\n",
        "    max & x > max \\\\\n",
        "    \\frac{x-min}{max-min} & inace\n",
        "  \\end{array}\n",
        "\\right.$\n",
        "\n",
        "Može se primeniti pre i posle drugih vrsta normalizacije.\n"
      ],
      "metadata": {
        "id": "NnYqCfhxy9wf"
      }
    },
    {
      "cell_type": "code",
      "source": [
        "def clipping(X, min, max):\n",
        "  # CODE HERE\n",
        "  pass"
      ],
      "metadata": {
        "id": "leCjbhq8y5U1"
      },
      "execution_count": null,
      "outputs": []
    },
    {
      "cell_type": "code",
      "source": [
        "car_clip = clipping(car['price'], 5000, 40000)\n",
        "plot_hist(car_clip, \"Cena nakon odsecanja\")"
      ],
      "metadata": {
        "id": "zU1oPY-o2Der"
      },
      "execution_count": null,
      "outputs": []
    },
    {
      "cell_type": "markdown",
      "source": [
        "## Logaritamsko skaliranje\n",
        "\n",
        "$x^{'} = log(x)$\n",
        "\n",
        "Logaritamsko skaliranje je korisno ukoliko ukoliko imamo raspodelu verovatnoće stepenog zakona (Paretova raspodela).\n",
        "\n",
        "Intuitivno: ako imamo malo tacaka sa velikim vrednostima i dosta tacaka sa malim vrednostima. Npr: raspodela bogatstva u društvu, filmske recenzije.\n",
        "\n",
        "Iz tog razloga koristimo logaritam, da smanjimo razliku između vrednosti.\n"
      ],
      "metadata": {
        "id": "jzanqSx93Z0x"
      }
    },
    {
      "cell_type": "code",
      "source": [
        "def log(X):\n",
        "  # CODE HERE\n",
        "  pass"
      ],
      "metadata": {
        "id": "ECrXvIuh5dKy"
      },
      "execution_count": null,
      "outputs": []
    },
    {
      "cell_type": "code",
      "source": [
        "car_log = log(car['price'])\n",
        "plot_hist(car_log, \"Cena nakon logaritamskog skaliranja\")"
      ],
      "metadata": {
        "id": "oHbtYwIO2LqZ"
      },
      "execution_count": null,
      "outputs": []
    },
    {
      "cell_type": "markdown",
      "source": [
        "## Z-score (standardizacija)\n",
        "\n",
        "Z-score predstavlja koliko standardinh devijacija je vrednost udaljena od srednje vrednosti. \n",
        "\n",
        "\n",
        "Koristimo kada želimo da osiguramo da je mean = 0  i std = 1.\n",
        "Korisno ako imamo outlajere, ali ne ekstremne da nam treba odsecanje\n",
        "\n",
        "Formula:\n",
        "  \n",
        "  $x^{'} = \\frac{x- μ}{σ}$\n",
        "\n",
        "\n"
      ],
      "metadata": {
        "id": "y7reFNbw5zyr"
      }
    },
    {
      "cell_type": "code",
      "source": [
        "def z_score(X):\n",
        "  # CODE HERE\n",
        "  pass"
      ],
      "metadata": {
        "id": "JXDCdjs35cBo"
      },
      "execution_count": null,
      "outputs": []
    },
    {
      "cell_type": "code",
      "source": [
        "car_z = z_score(car['price'])\n",
        "plot_hist(car_z, \"Cena nakon standardizacije\")"
      ],
      "metadata": {
        "id": "fLky_kTO7XJd"
      },
      "execution_count": null,
      "outputs": []
    },
    {
      "cell_type": "markdown",
      "source": [
        "Rezime:\n"
      ],
      "metadata": {
        "id": "R_MWlKVf9kwY"
      }
    },
    {
      "cell_type": "code",
      "source": [
        "plots = [car['price'], car_mm, car_clip, car_log, car_z]\n",
        "plot_titles = [\"Bez\", \"MinMax\", \"Odsecanje\", \"Log\", \"Standardizacija\"]\n",
        "\n",
        "plt.figure(figsize=(20, 5))\n",
        "\n",
        "for i in range(len(plots)):\n",
        "  plt.subplot(1, 5, i+1)\n",
        "  plot_hist(plots[i], plot_titles[i])\n"
      ],
      "metadata": {
        "id": "vK7YBW788hZg"
      },
      "execution_count": null,
      "outputs": []
    },
    {
      "cell_type": "code",
      "source": [],
      "metadata": {
        "id": "PglpIM0d9ABk"
      },
      "execution_count": null,
      "outputs": []
    }
  ]
}