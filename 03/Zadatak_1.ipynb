{
  "nbformat": 4,
  "nbformat_minor": 0,
  "metadata": {
    "colab": {
      "provenance": []
    },
    "kernelspec": {
      "name": "python3",
      "display_name": "Python 3"
    },
    "language_info": {
      "name": "python"
    }
  },
  "cells": [
    {
      "cell_type": "code",
      "execution_count": null,
      "metadata": {
        "id": "oUqfOtIf8qP1"
      },
      "outputs": [],
      "source": [
        "import pandas as pd\n",
        "import numpy as np"
      ]
    },
    {
      "cell_type": "markdown",
      "source": [
        "Na skupu bank.csv izvršiti sledece promene:"
      ],
      "metadata": {
        "id": "d5ymqxOT8tAz"
      }
    },
    {
      "cell_type": "code",
      "source": [
        "#Učitati skup 24-bank.csv\n"
      ],
      "metadata": {
        "id": "MWmXcP6D8vvW"
      },
      "execution_count": null,
      "outputs": []
    },
    {
      "cell_type": "code",
      "source": [
        "# Ispisati prvih 5 instanci\n",
        "data.head()"
      ],
      "metadata": {
        "id": "NxyqFxVQ88A1"
      },
      "execution_count": null,
      "outputs": []
    },
    {
      "cell_type": "code",
      "source": [
        "data.describe()"
      ],
      "metadata": {
        "id": "irFwFZTK885_"
      },
      "execution_count": null,
      "outputs": []
    },
    {
      "cell_type": "code",
      "source": [
        "# Eliminisati instance koje imaju negativnu vrednost u atributu srednje_god_stanje_eur."
      ],
      "metadata": {
        "id": "hZTXTEV-9A-O"
      },
      "execution_count": null,
      "outputs": []
    },
    {
      "cell_type": "code",
      "source": [
        "data.describe()"
      ],
      "metadata": {
        "id": "KdINoJT89GSp"
      },
      "execution_count": null,
      "outputs": []
    },
    {
      "cell_type": "code",
      "source": [
        "data.info()"
      ],
      "metadata": {
        "id": "m6gkEiAyU5k5"
      },
      "execution_count": null,
      "outputs": []
    },
    {
      "cell_type": "code",
      "source": [
        "# Vrednosti atributa starost podeliti u 5 kategorija jednake širine. HINT: Koristiti pd.cut(....)"
      ],
      "metadata": {
        "id": "MWEMKOEN98-i"
      },
      "execution_count": null,
      "outputs": []
    },
    {
      "cell_type": "code",
      "source": [
        "data['STAROST'].hist(bins=5)"
      ],
      "metadata": {
        "colab": {
          "base_uri": "https://localhost:8080/",
          "height": 284
        },
        "id": "LEwWTLX9YrHf",
        "outputId": "20166860-6091-41a6-bc40-29a2be125a45"
      },
      "execution_count": null,
      "outputs": [
        {
          "output_type": "execute_result",
          "data": {
            "text/plain": [
              "<AxesSubplot:>"
            ]
          },
          "metadata": {},
          "execution_count": 82
        },
        {
          "output_type": "display_data",
          "data": {
            "text/plain": [
              "<Figure size 432x288 with 1 Axes>"
            ],
            "image/png": "[encoded data removed]"
          },
          "metadata": {
            "needs_background": "light"
          }
        }
      ]
    },
    {
      "cell_type": "code",
      "source": [
        "# Promeniti kategorije atributa bracno_stanje u u_braku i nije_u_braku.\n"
      ],
      "metadata": {
        "id": "4A_WSDBC-WgS"
      },
      "execution_count": null,
      "outputs": []
    },
    {
      "cell_type": "code",
      "source": [
        "# Standardizovati numeričke atribute\n"
      ],
      "metadata": {
        "id": "jr71wABB-bG_"
      },
      "execution_count": null,
      "outputs": []
    },
    {
      "cell_type": "code",
      "source": [
        "data.describe()"
      ],
      "metadata": {
        "id": "Q4p3-BG1V3uV"
      },
      "execution_count": null,
      "outputs": []
    },
    {
      "cell_type": "code",
      "source": [],
      "metadata": {
        "id": "5eXw7SCtVjts"
      },
      "execution_count": null,
      "outputs": []
    }
  ]
}