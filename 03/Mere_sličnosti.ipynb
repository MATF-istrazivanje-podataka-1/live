{
  "nbformat": 4,
  "nbformat_minor": 0,
  "metadata": {
    "colab": {
      "provenance": []
    },
    "kernelspec": {
      "name": "python3",
      "display_name": "Python 3"
    },
    "language_info": {
      "name": "python"
    }
  },
  "cells": [
    {
      "cell_type": "markdown",
      "source": [
        "# Bliskost-sličnost i različitost\n",
        "\n",
        "1. **Sličnost**\n",
        " * Numerička mera koliko su dva objekta slična\n",
        " * Što dva objekta više liče jedan na drugi sličnost im je veca\n",
        " * Često se meri vrednostima u intervalu [0, 1]\n",
        "  \n",
        "  Kada koristimo?:\n",
        "  - Pronalazak grešaka u podacima (nastalih npr. greškom u kucanju)\n",
        "  - Pronalazak grupa koje su jako slične (klasteri)\n",
        "\n",
        "2. **Različitost**\n",
        " * Numerička mera koliko su dva objekta različita\n",
        " * Što dva objekta više liče jedan na drugi različitost im je manja\n",
        " * Najmanja različitost je često 0; gornja granica varira\n",
        " * Kao sinonim koristi se i termin rastojanje\n",
        " \n",
        " Kada koristimo?\n",
        "  - outlajere\n",
        "  - izuzetke\n",
        "  - granice klastera\n",
        "\n",
        "3. **Blizina** (eng. proximity) označava ili sličnost ili različitost"
      ],
      "metadata": {
        "id": "AOIy2nqkx-Zk"
      }
    },
    {
      "cell_type": "code",
      "source": [
        "from matplotlib import pyplot as plt\n",
        "import numpy as np\n",
        "import pandas as pd"
      ],
      "metadata": {
        "id": "ks-TJ7EV7TfR"
      },
      "execution_count": null,
      "outputs": []
    },
    {
      "cell_type": "markdown",
      "source": [
        "### Mera sličnosti za nominalne atribute\n",
        "\n",
        "$s(p, q) = \\left\\{ \n",
        "  \\begin{array}{ c l }\n",
        "    1 & \\quad \\textrm{ako } p = q \\\\\n",
        "    0                 & \\quad \\textrm{inače}\n",
        "  \\end{array}\n",
        "\\right.$"
      ],
      "metadata": {
        "id": "4X7aAGNNujqM"
      }
    },
    {
      "cell_type": "code",
      "source": [
        "def similarity_nominal(p, q): \n",
        "    return int(p==q)"
      ],
      "metadata": {
        "id": "p1WTEI0vusAs"
      },
      "execution_count": null,
      "outputs": []
    },
    {
      "cell_type": "code",
      "source": [
        "similarity_nominal(\"Petar\", \"Jovan\") # izlaz: 0"
      ],
      "metadata": {
        "colab": {
          "base_uri": "https://localhost:8080/"
        },
        "id": "0DHNoNwZgEeQ",
        "outputId": "9624dee7-6793-49ac-91b7-a713de31438e"
      },
      "execution_count": null,
      "outputs": [
        {
          "output_type": "execute_result",
          "data": {
            "text/plain": [
              "0"
            ]
          },
          "metadata": {},
          "execution_count": 4
        }
      ]
    },
    {
      "cell_type": "code",
      "source": [
        "similarity_nominal(\"Petar\", \"Petar\") # izlaz: 1"
      ],
      "metadata": {
        "id": "betAlzy1gQRS",
        "colab": {
          "base_uri": "https://localhost:8080/"
        },
        "outputId": "0776c343-5d9c-474f-fd59-2540bad19330"
      },
      "execution_count": null,
      "outputs": [
        {
          "output_type": "execute_result",
          "data": {
            "text/plain": [
              "1"
            ]
          },
          "metadata": {},
          "execution_count": 5
        }
      ]
    },
    {
      "cell_type": "markdown",
      "source": [
        "## Mera različitosti za nominalne atribute\n",
        "\n",
        "$d(p, q) = \\left\\{ \n",
        "  \\begin{array}{ c l }\n",
        "    0 & \\quad \\textrm{ako } p = q \\\\\n",
        "    1                 & \\quad \\textrm{inače}\n",
        "  \\end{array}\n",
        "\\right.$"
      ],
      "metadata": {
        "id": "3Fz05e2Whh73"
      }
    },
    {
      "cell_type": "code",
      "source": [
        "def dissimilarity_nominal(p, q):\n",
        "  return 1 - similarity_nominal(p, q)"
      ],
      "metadata": {
        "id": "aMnNFIvdhqFH"
      },
      "execution_count": null,
      "outputs": []
    },
    {
      "cell_type": "code",
      "source": [
        "dissimilarity_nominal(\"Petar\", \"Jovan\") # izlaz: 1"
      ],
      "metadata": {
        "id": "G5xzholChqU-",
        "colab": {
          "base_uri": "https://localhost:8080/"
        },
        "outputId": "4e86b0cb-36db-4480-ff97-bfea39c6151b"
      },
      "execution_count": null,
      "outputs": [
        {
          "output_type": "execute_result",
          "data": {
            "text/plain": [
              "1"
            ]
          },
          "metadata": {},
          "execution_count": 7
        }
      ]
    },
    {
      "cell_type": "code",
      "source": [
        "dissimilarity_nominal(\"Petar\", \"Petar\") # izlaz: 0"
      ],
      "metadata": {
        "id": "qamp5OmKhucP",
        "colab": {
          "base_uri": "https://localhost:8080/"
        },
        "outputId": "dc071f4f-0090-4793-f451-8f2ef465e5a1"
      },
      "execution_count": null,
      "outputs": [
        {
          "output_type": "execute_result",
          "data": {
            "text/plain": [
              "0"
            ]
          },
          "metadata": {},
          "execution_count": 8
        }
      ]
    },
    {
      "cell_type": "markdown",
      "source": [
        "## Mera različitosti za ordinalne atribute\n",
        "\n",
        "$\n",
        "d(p, q) = \\frac{|p'-q'|}{n-1}\n",
        "$\n",
        "\n",
        "Vrednost p i q slikaju u cele brojeve od 0 do n - 1, gde je n broj mogućih vrednosti \n"
      ],
      "metadata": {
        "id": "ZUALVSh3wfaU"
      }
    },
    {
      "cell_type": "code",
      "source": [
        "def dissimilarity_ordinal(p, q, values):\n",
        "    n = len(values)\n",
        "    map_values = pd.Series(range(n), index=values)\n",
        "    return abs(map_values[p] - map_values[q])/(n-1)"
      ],
      "metadata": {
        "id": "JR2tTRFjwTdO"
      },
      "execution_count": null,
      "outputs": []
    },
    {
      "cell_type": "code",
      "source": [
        "dissimilarity_ordinal(\"M\", \"XL\", [\"S\", \"M\", \"L\", \"XL\"])  # izlaz: 0.6666666666666666"
      ],
      "metadata": {
        "id": "BI-CjnGGwXID",
        "colab": {
          "base_uri": "https://localhost:8080/"
        },
        "outputId": "86c0e01f-f8ba-4374-8caa-f8c7dc333baa"
      },
      "execution_count": null,
      "outputs": [
        {
          "output_type": "execute_result",
          "data": {
            "text/plain": [
              "0.6666666666666666"
            ]
          },
          "metadata": {},
          "execution_count": 12
        }
      ]
    },
    {
      "cell_type": "code",
      "source": [
        "dissimilarity_ordinal(\"S\", \"XL\", [\"S\", \"M\", \"L\", \"XL\"])  # izlaz: 1.0"
      ],
      "metadata": {
        "id": "gE-ngpvUjHmh",
        "colab": {
          "base_uri": "https://localhost:8080/"
        },
        "outputId": "4ec698de-ed76-48a1-e45a-98ffa3d25fa3"
      },
      "execution_count": null,
      "outputs": [
        {
          "output_type": "execute_result",
          "data": {
            "text/plain": [
              "1.0"
            ]
          },
          "metadata": {},
          "execution_count": 13
        }
      ]
    },
    {
      "cell_type": "markdown",
      "source": [
        "## Mera sličnosti za ordinalne atribute\n",
        "\n",
        "$\n",
        "s(p, q) = 1 - d(p, q)\n",
        "$"
      ],
      "metadata": {
        "id": "TB8eQ1U7pZmq"
      }
    },
    {
      "cell_type": "code",
      "source": [
        "def similarity_ordinal(p, q, values):\n",
        "    return 1-dissimilarity_ordinal(p, q, values)"
      ],
      "metadata": {
        "id": "kJfHK3qcpkBu"
      },
      "execution_count": null,
      "outputs": []
    },
    {
      "cell_type": "code",
      "source": [
        "similarity_ordinal(\"M\", \"XL\", [\"S\", \"M\", \"L\", \"XL\"])  # izlaz: 0.33333333333333337"
      ],
      "metadata": {
        "id": "0yKp5BQCpzGh",
        "colab": {
          "base_uri": "https://localhost:8080/"
        },
        "outputId": "c9d20f67-bcb0-44ec-f368-fdf135b708d6"
      },
      "execution_count": null,
      "outputs": [
        {
          "output_type": "execute_result",
          "data": {
            "text/plain": [
              "0.33333333333333337"
            ]
          },
          "metadata": {},
          "execution_count": 15
        }
      ]
    },
    {
      "cell_type": "code",
      "source": [
        "similarity_ordinal(\"S\", \"XL\", [\"S\", \"M\", \"L\", \"XL\"])  # izlaz: 0.0"
      ],
      "metadata": {
        "id": "3wSh_Ff4p510",
        "colab": {
          "base_uri": "https://localhost:8080/"
        },
        "outputId": "b69e80cd-e449-475b-8377-2f328f40ab52"
      },
      "execution_count": null,
      "outputs": [
        {
          "output_type": "execute_result",
          "data": {
            "text/plain": [
              "0.0"
            ]
          },
          "metadata": {},
          "execution_count": 16
        }
      ]
    },
    {
      "cell_type": "markdown",
      "source": [
        "## Mere različitosti za kvantitativne atribute\n",
        "\n",
        "$d(p, q) = |p-q| $"
      ],
      "metadata": {
        "id": "dS77xFSoyqpN"
      }
    },
    {
      "cell_type": "code",
      "source": [
        "def dissimilarity_quantity(p, q):\n",
        "    return abs(p-q)"
      ],
      "metadata": {
        "id": "zxkI0T37wZ6p"
      },
      "execution_count": null,
      "outputs": []
    },
    {
      "cell_type": "code",
      "source": [
        "import datetime\n",
        "dissimilarity_quantity(datetime.date(2020, 3, 25), datetime.date(2020, 7, 24))"
      ],
      "metadata": {
        "id": "aPPccxMlzDhM",
        "colab": {
          "base_uri": "https://localhost:8080/"
        },
        "outputId": "1520f50e-120a-460e-dc45-7573e1362ca3"
      },
      "execution_count": null,
      "outputs": [
        {
          "output_type": "execute_result",
          "data": {
            "text/plain": [
              "datetime.timedelta(days=121)"
            ]
          },
          "metadata": {},
          "execution_count": 18
        }
      ]
    },
    {
      "cell_type": "markdown",
      "source": [
        "## Mere sličnosti - opcija 1\n",
        "\n",
        "$s(p, q) = -d(p, q)$"
      ],
      "metadata": {
        "id": "3AfikwFqruwK"
      }
    },
    {
      "cell_type": "code",
      "source": [
        "def similarity_quantity_1(p, q):\n",
        "    return -dissimilarity_quantity(p, q)"
      ],
      "metadata": {
        "id": "Pwm6r5J5sql-"
      },
      "execution_count": null,
      "outputs": []
    },
    {
      "cell_type": "code",
      "source": [
        "similarity_quantity_1(datetime.date(2020, 3, 25), datetime.date(2020, 7, 24))"
      ],
      "metadata": {
        "id": "EJq786s5sy00",
        "colab": {
          "base_uri": "https://localhost:8080/"
        },
        "outputId": "7dbf5242-2150-4468-adc2-be7d5ae72eb2"
      },
      "execution_count": null,
      "outputs": [
        {
          "output_type": "execute_result",
          "data": {
            "text/plain": [
              "datetime.timedelta(days=-121)"
            ]
          },
          "metadata": {},
          "execution_count": 20
        }
      ]
    },
    {
      "cell_type": "markdown",
      "source": [
        "## Mere sličnosti - opcija 2\n",
        "\n",
        "$s(p, q) = \\frac{1}{1+d}$"
      ],
      "metadata": {
        "id": "Q_JIpd3Wt4WS"
      }
    },
    {
      "cell_type": "code",
      "source": [
        "def similarity_quantity_2(p, q):\n",
        "    return 1/(1+dissimilarity_quantity(p, q).days)"
      ],
      "metadata": {
        "id": "qnHjM6p_t-xs"
      },
      "execution_count": null,
      "outputs": []
    },
    {
      "cell_type": "code",
      "source": [
        "similarity_quantity_2(datetime.date(2020, 3, 25), datetime.date(2020, 7, 24)) # 0.00819672131147541"
      ],
      "metadata": {
        "colab": {
          "base_uri": "https://localhost:8080/"
        },
        "id": "57WXcGCAuGyl",
        "outputId": "adeb932c-a210-4326-c746-6d93c0dad464"
      },
      "execution_count": null,
      "outputs": [
        {
          "output_type": "execute_result",
          "data": {
            "text/plain": [
              "0.00819672131147541"
            ]
          },
          "metadata": {},
          "execution_count": 24
        }
      ]
    },
    {
      "cell_type": "markdown",
      "source": [
        "# Različitosti između objekata podataka"
      ],
      "metadata": {
        "id": "SM4JAc760OgX"
      }
    },
    {
      "cell_type": "markdown",
      "source": [
        "\n",
        "### Rastojanje Minkovskog:\n",
        "$ mink(x, y) = (\\sum_{k=1}^{n}|x_k-y_k|^r)^\\frac{1}{r}$\n",
        "\n",
        " - r parametar\n",
        " - n broj dimenzija (atributa)\n",
        " - $x_k$ i $y_k$ su vrednosti k-tog atributa objekata x i y\n"
      ],
      "metadata": {
        "id": "NJ04pPKpxpNO"
      }
    },
    {
      "cell_type": "markdown",
      "source": [
        "Rastojanje Minkovskog\n",
        "\n",
        "* **r = 1** Menhetn (L1 norma) rastojanje\n",
        "    Hamingovo rastojanje\n",
        "* **r = 2** Euklidsko rastojanje\n",
        "\n",
        "* **r → ∞**  supremum (Lmax norma) rastojanje\n",
        "\n",
        "> Predstavlja maksimum razlike između odgovarajucih komponenti vektora\n",
        "\n",
        "\n"
      ],
      "metadata": {
        "id": "eBiaH_7x0oUm"
      }
    },
    {
      "cell_type": "code",
      "source": [
        "def minkowski(x, y, r):\n",
        "  if r <= 0:\n",
        "    raise ValueError(\"R is not positive!\")\n",
        "  return (sum([abs(x[v] - y[v])**r for v in x.index])**(1/r))  "
      ],
      "metadata": {
        "id": "sm6WndpkItJN"
      },
      "execution_count": null,
      "outputs": []
    },
    {
      "cell_type": "markdown",
      "source": [
        "#### Zadatak 1:\n",
        "Posmatramo naredni skup tačaka:\n",
        "\n",
        "|point |x  | y|\n",
        "--- | --- | ---|\n",
        "|**p1**|0|2|\n",
        "|**p2**|2|0|\n",
        "|**p3**|3|1|\n",
        "|**p4**|5|1|\n",
        "\n",
        "Izračunati $L_1$, $L_2$, $L_{max}$ normu:"
      ],
      "metadata": {
        "id": "sKI51ckkDsNj"
      }
    },
    {
      "cell_type": "code",
      "source": [
        "points = pd.DataFrame([[0,2], [2, 0], [3, 1], [5, 1]], index=[\"p1\", \"p2\", \"p3\", \"p4\"], columns=[\"x\", \"y\"])\n",
        "points"
      ],
      "metadata": {
        "colab": {
          "base_uri": "https://localhost:8080/",
          "height": 175
        },
        "id": "MYDSyfwNDrZc",
        "outputId": "a3c53a6c-eb9f-4ecc-89b8-63e6587b833b"
      },
      "execution_count": null,
      "outputs": [
        {
          "output_type": "execute_result",
          "data": {
            "text/plain": [
              "    x  y\n",
              "p1  0  2\n",
              "p2  2  0\n",
              "p3  3  1\n",
              "p4  5  1"
            ],
            "text/html": [
              "\n",
              "  <div id=\"df-73f013b5-2641-4738-950f-9ed8a5095ce9\">\n",
              "    <div class=\"colab-df-container\">\n",
              "      <div>\n",
              "<style scoped>\n",
              "    .dataframe tbody tr th:only-of-type {\n",
              "        vertical-align: middle;\n",
              "    }\n",
              "\n",
              "    .dataframe tbody tr th {\n",
              "        vertical-align: top;\n",
              "    }\n",
              "\n",
              "    .dataframe thead th {\n",
              "        text-align: right;\n",
              "    }\n",
              "</style>\n",
              "<table border=\"1\" class=\"dataframe\">\n",
              "  <thead>\n",
              "    <tr style=\"text-align: right;\">\n",
              "      <th></th>\n",
              "      <th>x</th>\n",
              "      <th>y</th>\n",
              "    </tr>\n",
              "  </thead>\n",
              "  <tbody>\n",
              "    <tr>\n",
              "      <th>p1</th>\n",
              "      <td>0</td>\n",
              "      <td>2</td>\n",
              "    </tr>\n",
              "    <tr>\n",
              "      <th>p2</th>\n",
              "      <td>2</td>\n",
              "      <td>0</td>\n",
              "    </tr>\n",
              "    <tr>\n",
              "      <th>p3</th>\n",
              "      <td>3</td>\n",
              "      <td>1</td>\n",
              "    </tr>\n",
              "    <tr>\n",
              "      <th>p4</th>\n",
              "      <td>5</td>\n",
              "      <td>1</td>\n",
              "    </tr>\n",
              "  </tbody>\n",
              "</table>\n",
              "</div>\n",
              "      <button class=\"colab-df-convert\" onclick=\"convertToInteractive('df-73f013b5-2641-4738-950f-9ed8a5095ce9')\"\n",
              "              title=\"Convert this dataframe to an interactive table.\"\n",
              "              style=\"display:none;\">\n",
              "        \n",
              "  <svg xmlns=\"http://www.w3.org/2000/svg\" height=\"24px\"viewBox=\"0 0 24 24\"\n",
              "       width=\"24px\">\n",
              "    <path d=\"M0 0h24v24H0V0z\" fill=\"none\"/>\n",
              "    <path d=\"M18.56 5.44l.94 2.06.94-2.06 2.06-.94-2.06-.94-.94-2.06-.94 2.06-2.06.94zm-11 1L8.5 8.5l.94-2.06 2.06-.94-2.06-.94L8.5 2.5l-.94 2.06-2.06.94zm10 10l.94 2.06.94-2.06 2.06-.94-2.06-.94-.94-2.06-.94 2.06-2.06.94z\"/><path d=\"M17.41 7.96l-1.37-1.37c-.4-.4-.92-.59-1.43-.59-.52 0-1.04.2-1.43.59L10.3 9.45l-7.72 7.72c-.78.78-.78 2.05 0 2.83L4 21.41c.39.39.9.59 1.41.59.51 0 1.02-.2 1.41-.59l7.78-7.78 2.81-2.81c.8-.78.8-2.07 0-2.86zM5.41 20L4 18.59l7.72-7.72 1.47 1.35L5.41 20z\"/>\n",
              "  </svg>\n",
              "      </button>\n",
              "      \n",
              "  <style>\n",
              "    .colab-df-container {\n",
              "      display:flex;\n",
              "      flex-wrap:wrap;\n",
              "      gap: 12px;\n",
              "    }\n",
              "\n",
              "    .colab-df-convert {\n",
              "      background-color: #E8F0FE;\n",
              "      border: none;\n",
              "      border-radius: 50%;\n",
              "      cursor: pointer;\n",
              "      display: none;\n",
              "      fill: #1967D2;\n",
              "      height: 32px;\n",
              "      padding: 0 0 0 0;\n",
              "      width: 32px;\n",
              "    }\n",
              "\n",
              "    .colab-df-convert:hover {\n",
              "      background-color: #E2EBFA;\n",
              "      box-shadow: 0px 1px 2px rgba(60, 64, 67, 0.3), 0px 1px 3px 1px rgba(60, 64, 67, 0.15);\n",
              "      fill: #174EA6;\n",
              "    }\n",
              "\n",
              "    [theme=dark] .colab-df-convert {\n",
              "      background-color: #3B4455;\n",
              "      fill: #D2E3FC;\n",
              "    }\n",
              "\n",
              "    [theme=dark] .colab-df-convert:hover {\n",
              "      background-color: #434B5C;\n",
              "      box-shadow: 0px 1px 3px 1px rgba(0, 0, 0, 0.15);\n",
              "      filter: drop-shadow(0px 1px 2px rgba(0, 0, 0, 0.3));\n",
              "      fill: #FFFFFF;\n",
              "    }\n",
              "  </style>\n",
              "\n",
              "      <script>\n",
              "        const buttonEl =\n",
              "          document.querySelector('#df-73f013b5-2641-4738-950f-9ed8a5095ce9 button.colab-df-convert');\n",
              "        buttonEl.style.display =\n",
              "          google.colab.kernel.accessAllowed ? 'block' : 'none';\n",
              "\n",
              "        async function convertToInteractive(key) {\n",
              "          const element = document.querySelector('#df-73f013b5-2641-4738-950f-9ed8a5095ce9');\n",
              "          const dataTable =\n",
              "            await google.colab.kernel.invokeFunction('convertToInteractive',\n",
              "                                                     [key], {});\n",
              "          if (!dataTable) return;\n",
              "\n",
              "          const docLinkHtml = 'Like what you see? Visit the ' +\n",
              "            '<a target=\"_blank\" href=https://colab.research.google.com/notebooks/data_table.ipynb>data table notebook</a>'\n",
              "            + ' to learn more about interactive tables.';\n",
              "          element.innerHTML = '';\n",
              "          dataTable['output_type'] = 'display_data';\n",
              "          await google.colab.output.renderOutput(dataTable, element);\n",
              "          const docLink = document.createElement('div');\n",
              "          docLink.innerHTML = docLinkHtml;\n",
              "          element.appendChild(docLink);\n",
              "        }\n",
              "      </script>\n",
              "    </div>\n",
              "  </div>\n",
              "  "
            ]
          },
          "metadata": {},
          "execution_count": 26
        }
      ]
    },
    {
      "cell_type": "code",
      "source": [
        "points.plot.scatter(\"x\", \"y\")\n",
        "plt.title(\"Points\")\n"
      ],
      "metadata": {
        "id": "Pz3yYgIr03PX",
        "colab": {
          "base_uri": "https://localhost:8080/",
          "height": 312
        },
        "outputId": "fb677f4b-f1ff-4e0c-afdb-26ef95ce0c76"
      },
      "execution_count": null,
      "outputs": [
        {
          "output_type": "execute_result",
          "data": {
            "text/plain": [
              "Text(0.5, 1.0, 'Points')"
            ]
          },
          "metadata": {},
          "execution_count": 27
        },
        {
          "output_type": "display_data",
          "data": {
            "text/plain": [
              "<Figure size 432x288 with 1 Axes>"
            ],
            "image/png": "[encoded data removed]"
          },
          "metadata": {
            "needs_background": "light"
          }
        }
      ]
    },
    {
      "cell_type": "markdown",
      "source": [
        "a) Izračunati L1 normu: \n",
        "\n",
        "Očekivan izlaz:\n",
        "\n",
        "|$L_1$|p1| p2|p3|p4|\n",
        "--- | --- | ---| ---|---|\n",
        "|**p1**|0|4|4|6|\n",
        "|**p2**|4|0|2|4|\n",
        "|**p3**|4|2|0|2|\n",
        "|**p4**|6|4|2|0|"
      ],
      "metadata": {
        "id": "1940dp5DRbzE"
      }
    },
    {
      "cell_type": "code",
      "source": [
        "def L1(points):\n",
        "    L1 = pd.DataFrame(0, index=points.index, columns=points.index)\n",
        "    for p1 in points.index:\n",
        "      for p2 in points.index:\n",
        "        L1[p1][p2] = minkowski(points.loc[p1], points.loc[p2], 1)\n",
        "    return L1\n",
        "\n",
        "L1(points)"
      ],
      "metadata": {
        "id": "h1TrYjDoIYG2",
        "colab": {
          "base_uri": "https://localhost:8080/",
          "height": 175
        },
        "outputId": "9c323cd0-d455-40e3-ec79-8e75294dd43b"
      },
      "execution_count": null,
      "outputs": [
        {
          "output_type": "execute_result",
          "data": {
            "text/plain": [
              "    p1  p2  p3  p4\n",
              "p1   0   4   4   6\n",
              "p2   4   0   2   4\n",
              "p3   4   2   0   2\n",
              "p4   6   4   2   0"
            ],
            "text/html": [
              "\n",
              "  <div id=\"df-d488f235-82c6-4329-99fd-3dd9e1640c50\">\n",
              "    <div class=\"colab-df-container\">\n",
              "      <div>\n",
              "<style scoped>\n",
              "    .dataframe tbody tr th:only-of-type {\n",
              "        vertical-align: middle;\n",
              "    }\n",
              "\n",
              "    .dataframe tbody tr th {\n",
              "        vertical-align: top;\n",
              "    }\n",
              "\n",
              "    .dataframe thead th {\n",
              "        text-align: right;\n",
              "    }\n",
              "</style>\n",
              "<table border=\"1\" class=\"dataframe\">\n",
              "  <thead>\n",
              "    <tr style=\"text-align: right;\">\n",
              "      <th></th>\n",
              "      <th>p1</th>\n",
              "      <th>p2</th>\n",
              "      <th>p3</th>\n",
              "      <th>p4</th>\n",
              "    </tr>\n",
              "  </thead>\n",
              "  <tbody>\n",
              "    <tr>\n",
              "      <th>p1</th>\n",
              "      <td>0</td>\n",
              "      <td>4</td>\n",
              "      <td>4</td>\n",
              "      <td>6</td>\n",
              "    </tr>\n",
              "    <tr>\n",
              "      <th>p2</th>\n",
              "      <td>4</td>\n",
              "      <td>0</td>\n",
              "      <td>2</td>\n",
              "      <td>4</td>\n",
              "    </tr>\n",
              "    <tr>\n",
              "      <th>p3</th>\n",
              "      <td>4</td>\n",
              "      <td>2</td>\n",
              "      <td>0</td>\n",
              "      <td>2</td>\n",
              "    </tr>\n",
              "    <tr>\n",
              "      <th>p4</th>\n",
              "      <td>6</td>\n",
              "      <td>4</td>\n",
              "      <td>2</td>\n",
              "      <td>0</td>\n",
              "    </tr>\n",
              "  </tbody>\n",
              "</table>\n",
              "</div>\n",
              "      <button class=\"colab-df-convert\" onclick=\"convertToInteractive('df-d488f235-82c6-4329-99fd-3dd9e1640c50')\"\n",
              "              title=\"Convert this dataframe to an interactive table.\"\n",
              "              style=\"display:none;\">\n",
              "        \n",
              "  <svg xmlns=\"http://www.w3.org/2000/svg\" height=\"24px\"viewBox=\"0 0 24 24\"\n",
              "       width=\"24px\">\n",
              "    <path d=\"M0 0h24v24H0V0z\" fill=\"none\"/>\n",
              "    <path d=\"M18.56 5.44l.94 2.06.94-2.06 2.06-.94-2.06-.94-.94-2.06-.94 2.06-2.06.94zm-11 1L8.5 8.5l.94-2.06 2.06-.94-2.06-.94L8.5 2.5l-.94 2.06-2.06.94zm10 10l.94 2.06.94-2.06 2.06-.94-2.06-.94-.94-2.06-.94 2.06-2.06.94z\"/><path d=\"M17.41 7.96l-1.37-1.37c-.4-.4-.92-.59-1.43-.59-.52 0-1.04.2-1.43.59L10.3 9.45l-7.72 7.72c-.78.78-.78 2.05 0 2.83L4 21.41c.39.39.9.59 1.41.59.51 0 1.02-.2 1.41-.59l7.78-7.78 2.81-2.81c.8-.78.8-2.07 0-2.86zM5.41 20L4 18.59l7.72-7.72 1.47 1.35L5.41 20z\"/>\n",
              "  </svg>\n",
              "      </button>\n",
              "      \n",
              "  <style>\n",
              "    .colab-df-container {\n",
              "      display:flex;\n",
              "      flex-wrap:wrap;\n",
              "      gap: 12px;\n",
              "    }\n",
              "\n",
              "    .colab-df-convert {\n",
              "      background-color: #E8F0FE;\n",
              "      border: none;\n",
              "      border-radius: 50%;\n",
              "      cursor: pointer;\n",
              "      display: none;\n",
              "      fill: #1967D2;\n",
              "      height: 32px;\n",
              "      padding: 0 0 0 0;\n",
              "      width: 32px;\n",
              "    }\n",
              "\n",
              "    .colab-df-convert:hover {\n",
              "      background-color: #E2EBFA;\n",
              "      box-shadow: 0px 1px 2px rgba(60, 64, 67, 0.3), 0px 1px 3px 1px rgba(60, 64, 67, 0.15);\n",
              "      fill: #174EA6;\n",
              "    }\n",
              "\n",
              "    [theme=dark] .colab-df-convert {\n",
              "      background-color: #3B4455;\n",
              "      fill: #D2E3FC;\n",
              "    }\n",
              "\n",
              "    [theme=dark] .colab-df-convert:hover {\n",
              "      background-color: #434B5C;\n",
              "      box-shadow: 0px 1px 3px 1px rgba(0, 0, 0, 0.15);\n",
              "      filter: drop-shadow(0px 1px 2px rgba(0, 0, 0, 0.3));\n",
              "      fill: #FFFFFF;\n",
              "    }\n",
              "  </style>\n",
              "\n",
              "      <script>\n",
              "        const buttonEl =\n",
              "          document.querySelector('#df-d488f235-82c6-4329-99fd-3dd9e1640c50 button.colab-df-convert');\n",
              "        buttonEl.style.display =\n",
              "          google.colab.kernel.accessAllowed ? 'block' : 'none';\n",
              "\n",
              "        async function convertToInteractive(key) {\n",
              "          const element = document.querySelector('#df-d488f235-82c6-4329-99fd-3dd9e1640c50');\n",
              "          const dataTable =\n",
              "            await google.colab.kernel.invokeFunction('convertToInteractive',\n",
              "                                                     [key], {});\n",
              "          if (!dataTable) return;\n",
              "\n",
              "          const docLinkHtml = 'Like what you see? Visit the ' +\n",
              "            '<a target=\"_blank\" href=https://colab.research.google.com/notebooks/data_table.ipynb>data table notebook</a>'\n",
              "            + ' to learn more about interactive tables.';\n",
              "          element.innerHTML = '';\n",
              "          dataTable['output_type'] = 'display_data';\n",
              "          await google.colab.output.renderOutput(dataTable, element);\n",
              "          const docLink = document.createElement('div');\n",
              "          docLink.innerHTML = docLinkHtml;\n",
              "          element.appendChild(docLink);\n",
              "        }\n",
              "      </script>\n",
              "    </div>\n",
              "  </div>\n",
              "  "
            ]
          },
          "metadata": {},
          "execution_count": 31
        }
      ]
    },
    {
      "cell_type": "markdown",
      "source": [
        "a) Izračunati L2 normu: \n",
        "\n",
        "Očekivan izlaz:\n",
        "\n",
        "|$L_2$|p1| p2|p3|p4|\n",
        "--- | --- | ---| ---|---|\n",
        "|**p1**|0.0|2.828|3.162|5.099|\n",
        "|**p2**|2.828|0.0|1.414|3.162|\n",
        "|**p3**|3.162|1.414|0.0|2.0|\n",
        "|**p4**|5.099|3.162|2.0|0.0|"
      ],
      "metadata": {
        "id": "w55gT2GzSr0Q"
      }
    },
    {
      "cell_type": "code",
      "source": [
        "def L2(points):\n",
        "    L2 = pd.DataFrame(0, index=points.index, columns=points.index, dtype='float64')\n",
        "    for p1 in points.index:\n",
        "      for p2 in points.index:\n",
        "        L2[p1][p2] = minkowski(points.loc[p1], points.loc[p2], 2)\n",
        "    return L2\n",
        "L2(points)"
      ],
      "metadata": {
        "id": "F49EIQhyK2u5",
        "colab": {
          "base_uri": "https://localhost:8080/",
          "height": 175
        },
        "outputId": "288f9b1b-e2da-4a53-8517-b836c33ac328"
      },
      "execution_count": null,
      "outputs": [
        {
          "output_type": "execute_result",
          "data": {
            "text/plain": [
              "          p1        p2        p3        p4\n",
              "p1  0.000000  2.828427  3.162278  5.099020\n",
              "p2  2.828427  0.000000  1.414214  3.162278\n",
              "p3  3.162278  1.414214  0.000000  2.000000\n",
              "p4  5.099020  3.162278  2.000000  0.000000"
            ],
            "text/html": [
              "\n",
              "  <div id=\"df-cc7c762e-35be-4ee4-a0b6-37f1a1dbe8d6\">\n",
              "    <div class=\"colab-df-container\">\n",
              "      <div>\n",
              "<style scoped>\n",
              "    .dataframe tbody tr th:only-of-type {\n",
              "        vertical-align: middle;\n",
              "    }\n",
              "\n",
              "    .dataframe tbody tr th {\n",
              "        vertical-align: top;\n",
              "    }\n",
              "\n",
              "    .dataframe thead th {\n",
              "        text-align: right;\n",
              "    }\n",
              "</style>\n",
              "<table border=\"1\" class=\"dataframe\">\n",
              "  <thead>\n",
              "    <tr style=\"text-align: right;\">\n",
              "      <th></th>\n",
              "      <th>p1</th>\n",
              "      <th>p2</th>\n",
              "      <th>p3</th>\n",
              "      <th>p4</th>\n",
              "    </tr>\n",
              "  </thead>\n",
              "  <tbody>\n",
              "    <tr>\n",
              "      <th>p1</th>\n",
              "      <td>0.000000</td>\n",
              "      <td>2.828427</td>\n",
              "      <td>3.162278</td>\n",
              "      <td>5.099020</td>\n",
              "    </tr>\n",
              "    <tr>\n",
              "      <th>p2</th>\n",
              "      <td>2.828427</td>\n",
              "      <td>0.000000</td>\n",
              "      <td>1.414214</td>\n",
              "      <td>3.162278</td>\n",
              "    </tr>\n",
              "    <tr>\n",
              "      <th>p3</th>\n",
              "      <td>3.162278</td>\n",
              "      <td>1.414214</td>\n",
              "      <td>0.000000</td>\n",
              "      <td>2.000000</td>\n",
              "    </tr>\n",
              "    <tr>\n",
              "      <th>p4</th>\n",
              "      <td>5.099020</td>\n",
              "      <td>3.162278</td>\n",
              "      <td>2.000000</td>\n",
              "      <td>0.000000</td>\n",
              "    </tr>\n",
              "  </tbody>\n",
              "</table>\n",
              "</div>\n",
              "      <button class=\"colab-df-convert\" onclick=\"convertToInteractive('df-cc7c762e-35be-4ee4-a0b6-37f1a1dbe8d6')\"\n",
              "              title=\"Convert this dataframe to an interactive table.\"\n",
              "              style=\"display:none;\">\n",
              "        \n",
              "  <svg xmlns=\"http://www.w3.org/2000/svg\" height=\"24px\"viewBox=\"0 0 24 24\"\n",
              "       width=\"24px\">\n",
              "    <path d=\"M0 0h24v24H0V0z\" fill=\"none\"/>\n",
              "    <path d=\"M18.56 5.44l.94 2.06.94-2.06 2.06-.94-2.06-.94-.94-2.06-.94 2.06-2.06.94zm-11 1L8.5 8.5l.94-2.06 2.06-.94-2.06-.94L8.5 2.5l-.94 2.06-2.06.94zm10 10l.94 2.06.94-2.06 2.06-.94-2.06-.94-.94-2.06-.94 2.06-2.06.94z\"/><path d=\"M17.41 7.96l-1.37-1.37c-.4-.4-.92-.59-1.43-.59-.52 0-1.04.2-1.43.59L10.3 9.45l-7.72 7.72c-.78.78-.78 2.05 0 2.83L4 21.41c.39.39.9.59 1.41.59.51 0 1.02-.2 1.41-.59l7.78-7.78 2.81-2.81c.8-.78.8-2.07 0-2.86zM5.41 20L4 18.59l7.72-7.72 1.47 1.35L5.41 20z\"/>\n",
              "  </svg>\n",
              "      </button>\n",
              "      \n",
              "  <style>\n",
              "    .colab-df-container {\n",
              "      display:flex;\n",
              "      flex-wrap:wrap;\n",
              "      gap: 12px;\n",
              "    }\n",
              "\n",
              "    .colab-df-convert {\n",
              "      background-color: #E8F0FE;\n",
              "      border: none;\n",
              "      border-radius: 50%;\n",
              "      cursor: pointer;\n",
              "      display: none;\n",
              "      fill: #1967D2;\n",
              "      height: 32px;\n",
              "      padding: 0 0 0 0;\n",
              "      width: 32px;\n",
              "    }\n",
              "\n",
              "    .colab-df-convert:hover {\n",
              "      background-color: #E2EBFA;\n",
              "      box-shadow: 0px 1px 2px rgba(60, 64, 67, 0.3), 0px 1px 3px 1px rgba(60, 64, 67, 0.15);\n",
              "      fill: #174EA6;\n",
              "    }\n",
              "\n",
              "    [theme=dark] .colab-df-convert {\n",
              "      background-color: #3B4455;\n",
              "      fill: #D2E3FC;\n",
              "    }\n",
              "\n",
              "    [theme=dark] .colab-df-convert:hover {\n",
              "      background-color: #434B5C;\n",
              "      box-shadow: 0px 1px 3px 1px rgba(0, 0, 0, 0.15);\n",
              "      filter: drop-shadow(0px 1px 2px rgba(0, 0, 0, 0.3));\n",
              "      fill: #FFFFFF;\n",
              "    }\n",
              "  </style>\n",
              "\n",
              "      <script>\n",
              "        const buttonEl =\n",
              "          document.querySelector('#df-cc7c762e-35be-4ee4-a0b6-37f1a1dbe8d6 button.colab-df-convert');\n",
              "        buttonEl.style.display =\n",
              "          google.colab.kernel.accessAllowed ? 'block' : 'none';\n",
              "\n",
              "        async function convertToInteractive(key) {\n",
              "          const element = document.querySelector('#df-cc7c762e-35be-4ee4-a0b6-37f1a1dbe8d6');\n",
              "          const dataTable =\n",
              "            await google.colab.kernel.invokeFunction('convertToInteractive',\n",
              "                                                     [key], {});\n",
              "          if (!dataTable) return;\n",
              "\n",
              "          const docLinkHtml = 'Like what you see? Visit the ' +\n",
              "            '<a target=\"_blank\" href=https://colab.research.google.com/notebooks/data_table.ipynb>data table notebook</a>'\n",
              "            + ' to learn more about interactive tables.';\n",
              "          element.innerHTML = '';\n",
              "          dataTable['output_type'] = 'display_data';\n",
              "          await google.colab.output.renderOutput(dataTable, element);\n",
              "          const docLink = document.createElement('div');\n",
              "          docLink.innerHTML = docLinkHtml;\n",
              "          element.appendChild(docLink);\n",
              "        }\n",
              "      </script>\n",
              "    </div>\n",
              "  </div>\n",
              "  "
            ]
          },
          "metadata": {},
          "execution_count": 32
        }
      ]
    },
    {
      "cell_type": "markdown",
      "source": [
        "a) Izračunati Lmax normu: \n",
        "\n",
        "Očekivan izlaz:\n",
        "\n",
        "|$L_max$|p1| p2|p3|p4|\n",
        "--- | --- | ---| ---|---|\n",
        "|**p1**|0|2|3|5|\n",
        "|**p2**|2|0|1|3|\n",
        "|**p3**|3|1|0|2|\n",
        "|**p4**|5|3|2|0|"
      ],
      "metadata": {
        "id": "s2YkMcnXTcg0"
      }
    },
    {
      "cell_type": "code",
      "source": [
        "def Lmax(points):\n",
        "    Lmax = pd.DataFrame(0, index=points.index, columns=points.index)\n",
        "    for p1 in points.index:\n",
        "      for p2 in points.index:\n",
        "        Lmax[p1][p2] = max(abs(points.loc[p1] - points.loc[p2]))\n",
        "    return Lmax\n",
        "Lmax(points)"
      ],
      "metadata": {
        "id": "GkOdSzlVLnv9",
        "colab": {
          "base_uri": "https://localhost:8080/",
          "height": 175
        },
        "outputId": "fed26897-5c33-4e1e-af4e-f3d82622e758"
      },
      "execution_count": null,
      "outputs": [
        {
          "output_type": "execute_result",
          "data": {
            "text/plain": [
              "    p1  p2  p3  p4\n",
              "p1   0   2   3   5\n",
              "p2   2   0   1   3\n",
              "p3   3   1   0   2\n",
              "p4   5   3   2   0"
            ],
            "text/html": [
              "\n",
              "  <div id=\"df-4a4f4694-7c3b-4f33-b6b3-272d05eb71e3\">\n",
              "    <div class=\"colab-df-container\">\n",
              "      <div>\n",
              "<style scoped>\n",
              "    .dataframe tbody tr th:only-of-type {\n",
              "        vertical-align: middle;\n",
              "    }\n",
              "\n",
              "    .dataframe tbody tr th {\n",
              "        vertical-align: top;\n",
              "    }\n",
              "\n",
              "    .dataframe thead th {\n",
              "        text-align: right;\n",
              "    }\n",
              "</style>\n",
              "<table border=\"1\" class=\"dataframe\">\n",
              "  <thead>\n",
              "    <tr style=\"text-align: right;\">\n",
              "      <th></th>\n",
              "      <th>p1</th>\n",
              "      <th>p2</th>\n",
              "      <th>p3</th>\n",
              "      <th>p4</th>\n",
              "    </tr>\n",
              "  </thead>\n",
              "  <tbody>\n",
              "    <tr>\n",
              "      <th>p1</th>\n",
              "      <td>0</td>\n",
              "      <td>2</td>\n",
              "      <td>3</td>\n",
              "      <td>5</td>\n",
              "    </tr>\n",
              "    <tr>\n",
              "      <th>p2</th>\n",
              "      <td>2</td>\n",
              "      <td>0</td>\n",
              "      <td>1</td>\n",
              "      <td>3</td>\n",
              "    </tr>\n",
              "    <tr>\n",
              "      <th>p3</th>\n",
              "      <td>3</td>\n",
              "      <td>1</td>\n",
              "      <td>0</td>\n",
              "      <td>2</td>\n",
              "    </tr>\n",
              "    <tr>\n",
              "      <th>p4</th>\n",
              "      <td>5</td>\n",
              "      <td>3</td>\n",
              "      <td>2</td>\n",
              "      <td>0</td>\n",
              "    </tr>\n",
              "  </tbody>\n",
              "</table>\n",
              "</div>\n",
              "      <button class=\"colab-df-convert\" onclick=\"convertToInteractive('df-4a4f4694-7c3b-4f33-b6b3-272d05eb71e3')\"\n",
              "              title=\"Convert this dataframe to an interactive table.\"\n",
              "              style=\"display:none;\">\n",
              "        \n",
              "  <svg xmlns=\"http://www.w3.org/2000/svg\" height=\"24px\"viewBox=\"0 0 24 24\"\n",
              "       width=\"24px\">\n",
              "    <path d=\"M0 0h24v24H0V0z\" fill=\"none\"/>\n",
              "    <path d=\"M18.56 5.44l.94 2.06.94-2.06 2.06-.94-2.06-.94-.94-2.06-.94 2.06-2.06.94zm-11 1L8.5 8.5l.94-2.06 2.06-.94-2.06-.94L8.5 2.5l-.94 2.06-2.06.94zm10 10l.94 2.06.94-2.06 2.06-.94-2.06-.94-.94-2.06-.94 2.06-2.06.94z\"/><path d=\"M17.41 7.96l-1.37-1.37c-.4-.4-.92-.59-1.43-.59-.52 0-1.04.2-1.43.59L10.3 9.45l-7.72 7.72c-.78.78-.78 2.05 0 2.83L4 21.41c.39.39.9.59 1.41.59.51 0 1.02-.2 1.41-.59l7.78-7.78 2.81-2.81c.8-.78.8-2.07 0-2.86zM5.41 20L4 18.59l7.72-7.72 1.47 1.35L5.41 20z\"/>\n",
              "  </svg>\n",
              "      </button>\n",
              "      \n",
              "  <style>\n",
              "    .colab-df-container {\n",
              "      display:flex;\n",
              "      flex-wrap:wrap;\n",
              "      gap: 12px;\n",
              "    }\n",
              "\n",
              "    .colab-df-convert {\n",
              "      background-color: #E8F0FE;\n",
              "      border: none;\n",
              "      border-radius: 50%;\n",
              "      cursor: pointer;\n",
              "      display: none;\n",
              "      fill: #1967D2;\n",
              "      height: 32px;\n",
              "      padding: 0 0 0 0;\n",
              "      width: 32px;\n",
              "    }\n",
              "\n",
              "    .colab-df-convert:hover {\n",
              "      background-color: #E2EBFA;\n",
              "      box-shadow: 0px 1px 2px rgba(60, 64, 67, 0.3), 0px 1px 3px 1px rgba(60, 64, 67, 0.15);\n",
              "      fill: #174EA6;\n",
              "    }\n",
              "\n",
              "    [theme=dark] .colab-df-convert {\n",
              "      background-color: #3B4455;\n",
              "      fill: #D2E3FC;\n",
              "    }\n",
              "\n",
              "    [theme=dark] .colab-df-convert:hover {\n",
              "      background-color: #434B5C;\n",
              "      box-shadow: 0px 1px 3px 1px rgba(0, 0, 0, 0.15);\n",
              "      filter: drop-shadow(0px 1px 2px rgba(0, 0, 0, 0.3));\n",
              "      fill: #FFFFFF;\n",
              "    }\n",
              "  </style>\n",
              "\n",
              "      <script>\n",
              "        const buttonEl =\n",
              "          document.querySelector('#df-4a4f4694-7c3b-4f33-b6b3-272d05eb71e3 button.colab-df-convert');\n",
              "        buttonEl.style.display =\n",
              "          google.colab.kernel.accessAllowed ? 'block' : 'none';\n",
              "\n",
              "        async function convertToInteractive(key) {\n",
              "          const element = document.querySelector('#df-4a4f4694-7c3b-4f33-b6b3-272d05eb71e3');\n",
              "          const dataTable =\n",
              "            await google.colab.kernel.invokeFunction('convertToInteractive',\n",
              "                                                     [key], {});\n",
              "          if (!dataTable) return;\n",
              "\n",
              "          const docLinkHtml = 'Like what you see? Visit the ' +\n",
              "            '<a target=\"_blank\" href=https://colab.research.google.com/notebooks/data_table.ipynb>data table notebook</a>'\n",
              "            + ' to learn more about interactive tables.';\n",
              "          element.innerHTML = '';\n",
              "          dataTable['output_type'] = 'display_data';\n",
              "          await google.colab.output.renderOutput(dataTable, element);\n",
              "          const docLink = document.createElement('div');\n",
              "          docLink.innerHTML = docLinkHtml;\n",
              "          element.appendChild(docLink);\n",
              "        }\n",
              "      </script>\n",
              "    </div>\n",
              "  </div>\n",
              "  "
            ]
          },
          "metadata": {},
          "execution_count": 35
        }
      ]
    },
    {
      "cell_type": "markdown",
      "source": [
        "Domaći: Optimizovati implementaciju funkcija L1, L2, Lmax na osnovu činjenice da su rezultujuće matrice simetrične."
      ],
      "metadata": {
        "id": "-7Ubk5E6BRSl"
      }
    },
    {
      "cell_type": "markdown",
      "source": [
        "## Mere sličnosti za binarne podatke\n",
        "\n",
        "* Hamingovo rastojanje\n",
        "* Simple matching coefficient (SMC)\n",
        "* Jacard's coefficient\n",
        "* Cosine similarity\n",
        "\n",
        "Oznake: Ako su p i q binarni podaci:\n",
        "\n",
        "* $M_{00}$ - broj atributa koji su 0 u p i 0 u q\n",
        "* $M_{01}$ - broj atributa koji su 0 u p i 1 u q\n",
        "* $M_{10}$ - broj atributa koji su 1 u p i 0 u q\n",
        "* $M_{11}$ - broj atributa koji su 1 u p i 1 u q\n"
      ],
      "metadata": {
        "id": "29KBqt5jCLcp"
      }
    },
    {
      "cell_type": "markdown",
      "source": [
        "### Hamingovo rastojanje\n",
        "- broj različitih vrednosti\n"
      ],
      "metadata": {
        "id": "9RhPebW4MeQx"
      }
    },
    {
      "cell_type": "code",
      "source": [
        "def hammings_distance(p, q):\n",
        "  # CODE HERE\n",
        "  pass"
      ],
      "metadata": {
        "id": "40ioqOqOMtuH"
      },
      "execution_count": null,
      "outputs": []
    },
    {
      "cell_type": "code",
      "source": [
        "p = pd.Series([0, 1, 0, 1, 0, 1, 0, 0, 0, 1])\n",
        "q = pd.Series([0, 1, 0, 0, 0, 1, 1, 0, 0, 0])\n",
        "\n",
        "hammings_distance(p, q) # izlaz: 3"
      ],
      "metadata": {
        "colab": {
          "base_uri": "https://localhost:8080/"
        },
        "id": "zVFij34UM7M9",
        "outputId": "ef7979b2-943e-47c0-a5f4-9195dad982a8"
      },
      "execution_count": null,
      "outputs": [
        {
          "output_type": "execute_result",
          "data": {
            "text/plain": [
              "3"
            ]
          },
          "metadata": {},
          "execution_count": 349
        }
      ]
    },
    {
      "cell_type": "markdown",
      "source": [
        "### SMC \n",
        "\n",
        "$SMC(p, q) = \\frac{M_{00} + M_{11}}{M_{00} + M_{11} + M_{01} + M_{10}}$"
      ],
      "metadata": {
        "id": "CPPwTGLaDfwr"
      }
    },
    {
      "cell_type": "code",
      "source": [
        "def smc(p, q):\n",
        "  # CODE HERE\n",
        "  pass"
      ],
      "metadata": {
        "id": "GoSxtpY3EOEk"
      },
      "execution_count": null,
      "outputs": []
    },
    {
      "cell_type": "code",
      "source": [
        "p = pd.Series([0, 1, 1, 0, 1, 0])\n",
        "q = pd.Series([1, 0, 1, 0, 1, 0])\n",
        "\n",
        "smc(p, q) # izlaz: 0.666666666666"
      ],
      "metadata": {
        "colab": {
          "base_uri": "https://localhost:8080/"
        },
        "id": "HSm1oGonD39Q",
        "outputId": "b7881190-b0e3-4a6e-c165-0f132de83601"
      },
      "execution_count": null,
      "outputs": [
        {
          "output_type": "execute_result",
          "data": {
            "text/plain": [
              "0.6666666666666666"
            ]
          },
          "metadata": {},
          "execution_count": 351
        }
      ]
    },
    {
      "cell_type": "markdown",
      "source": [
        "### Jacard's coefficient\n",
        "Koristi se kod asimetricnih binarnih podataka\n",
        "\n",
        "$ jacard(p, q) = \\frac{M_{11}}{M_{11} + M_{01} + M_{10}}$"
      ],
      "metadata": {
        "id": "ZlFNKeCuEXrl"
      }
    },
    {
      "cell_type": "code",
      "source": [
        "def jacard(p, q):\n",
        "  # CODE HERE\n",
        "  pass"
      ],
      "metadata": {
        "id": "MNbybMqMETL_"
      },
      "execution_count": null,
      "outputs": []
    },
    {
      "cell_type": "code",
      "source": [
        "p = pd.Series([0, 1, 0, 1, 0, 1, 0, 0, 0, 1])\n",
        "q = pd.Series([0, 1, 0, 0, 0, 1, 1, 0, 0, 0])\n",
        "\n",
        "jacard(p, q) # izlaz: 0.4\n"
      ],
      "metadata": {
        "colab": {
          "base_uri": "https://localhost:8080/"
        },
        "id": "oELIdhpsE5ZN",
        "outputId": "d6ec5a7b-37f8-49f5-993b-3cd56b6f0088"
      },
      "execution_count": null,
      "outputs": [
        {
          "output_type": "execute_result",
          "data": {
            "text/plain": [
              "0.4"
            ]
          },
          "metadata": {},
          "execution_count": 371
        }
      ]
    },
    {
      "cell_type": "markdown",
      "source": [
        "### Kosinusno rastojanje\n",
        "\n",
        "$cos(p, q) = \\frac{p ⊙ q}{|p||q|}$\n",
        "\n",
        "⊙ - skalarni proizvod\n",
        "\n",
        "|p| - norma vektora p\n",
        "\n",
        "Koristi se kod asimetričnih podataka. Najčešća mere sličnosti dokumenata.\n"
      ],
      "metadata": {
        "id": "KHhYwiJlI7aM"
      }
    },
    {
      "cell_type": "code",
      "source": [
        "def norm(x):\n",
        "  # CODE HERE\n",
        "  pass  "
      ],
      "metadata": {
        "id": "JYlc1OW0HKwL"
      },
      "execution_count": null,
      "outputs": []
    },
    {
      "cell_type": "code",
      "source": [
        "def cosine_similarity(p, q):\n",
        "  # CODE HERE\n",
        "  pass"
      ],
      "metadata": {
        "id": "HtHuCgSrJf0g"
      },
      "execution_count": null,
      "outputs": []
    },
    {
      "cell_type": "code",
      "source": [
        "cosine_similarity(p, q) # izlaz: 0.6666666666666667"
      ],
      "metadata": {
        "colab": {
          "base_uri": "https://localhost:8080/"
        },
        "id": "2Z4rrDHUKLvV",
        "outputId": "e3a1feaa-eb9a-45a2-8c8b-fc931ae3a7be"
      },
      "execution_count": null,
      "outputs": [
        {
          "output_type": "execute_result",
          "data": {
            "text/plain": [
              "0.6666666666666667"
            ]
          },
          "metadata": {},
          "execution_count": 313
        }
      ]
    },
    {
      "cell_type": "markdown",
      "source": [
        "### Korelacija:\n",
        "$corr(p, q) = \\frac{covariance(p, q)}{σ(p) * σ(q)}$\n",
        "\n",
        "Korelacija dva objekta koji imaju binarne ili neprekidne atribute\n",
        "je mera linearnog odnosa između njihovih atributa"
      ],
      "metadata": {
        "id": "6Fs-0DRUNPMR"
      }
    },
    {
      "cell_type": "code",
      "source": [
        "def correlation(p, q):\n",
        "  # CODE HERE\n",
        "  pass"
      ],
      "metadata": {
        "id": "GRdChDkYNwV4"
      },
      "execution_count": null,
      "outputs": []
    },
    {
      "cell_type": "code",
      "source": [
        "correlation(p, q) # izlaz: 0.3333333333333334\n"
      ],
      "metadata": {
        "colab": {
          "base_uri": "https://localhost:8080/"
        },
        "id": "YluuLLebN8L9",
        "outputId": "4e25355b-6782-4aa1-9703-37c0cde18180"
      },
      "execution_count": null,
      "outputs": [
        {
          "output_type": "execute_result",
          "data": {
            "text/plain": [
              "0.3333333333333334"
            ]
          },
          "metadata": {},
          "execution_count": 341
        }
      ]
    },
    {
      "cell_type": "code",
      "source": [],
      "metadata": {
        "id": "QZ0S2aAyN-NL"
      },
      "execution_count": null,
      "outputs": []
    }
  ]
}