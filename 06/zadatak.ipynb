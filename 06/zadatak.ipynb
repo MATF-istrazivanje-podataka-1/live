{
  "nbformat": 4,
  "nbformat_minor": 0,
  "metadata": {
    "colab": {
      "provenance": []
    },
    "kernelspec": {
      "name": "python3",
      "display_name": "Python 3"
    },
    "language_info": {
      "name": "python"
    }
  },
  "cells": [
    {
      "cell_type": "code",
      "source": [
        "import pandas as pd\n",
        "from sklearn.model_selection import train_test_split\n",
        "from sklearn.naive_bayes import CategoricalNB\n",
        "# from sklearn.preprocessing ...\n",
        "from sklearn.metrics import confusion_matrix, classification_report"
      ],
      "metadata": {
        "id": "ioec0M4O8Dx-"
      },
      "execution_count": null,
      "outputs": []
    },
    {
      "cell_type": "markdown",
      "source": [
        "\n",
        "Učitati skup podataka _134-balloons.csv_"
      ],
      "metadata": {
        "id": "x4Ag3kv6ttg0"
      }
    },
    {
      "cell_type": "code",
      "source": [
        "!wget \"http://www.matf.bg.ac.rs/p/files/134-balloons.csv\""
      ],
      "metadata": {
        "id": "fjBJdhPn8X2I",
        "colab": {
          "base_uri": "https://localhost:8080/"
        },
        "outputId": "d69a99df-b5c2-4ca5-b6c6-bc9335e7ad2e"
      },
      "execution_count": 2,
      "outputs": [
        {
          "output_type": "stream",
          "name": "stdout",
          "text": [
            "--2023-04-03 06:11:21--  http://www.matf.bg.ac.rs/p/files/134-balloons.csv\n",
            "Resolving www.matf.bg.ac.rs (www.matf.bg.ac.rs)... 147.91.66.10\n",
            "Connecting to www.matf.bg.ac.rs (www.matf.bg.ac.rs)|147.91.66.10|:80... connected.\n",
            "HTTP request sent, awaiting response... 200 OK\n",
            "Length: 2159 (2.1K) [text/csv]\n",
            "Saving to: ‘134-balloons.csv’\n",
            "\n",
            "134-balloons.csv    100%[===================>]   2.11K  --.-KB/s    in 0s      \n",
            "\n",
            "2023-04-03 06:11:22 (142 MB/s) - ‘134-balloons.csv’ saved [2159/2159]\n",
            "\n"
          ]
        }
      ]
    },
    {
      "cell_type": "markdown",
      "source": [
        "Prikazati prvih 10 instanci skupa"
      ],
      "metadata": {
        "id": "Gv-Qm4hOt22U"
      }
    },
    {
      "cell_type": "code",
      "source": [
        "# CODE HERE"
      ],
      "metadata": {
        "id": "uxMczBxi-SuI"
      },
      "execution_count": null,
      "outputs": []
    },
    {
      "cell_type": "markdown",
      "source": [
        "Proveriti da li ima nedostajućih vrednosti"
      ],
      "metadata": {
        "id": "vnDO0g1yt-Ba"
      }
    },
    {
      "cell_type": "code",
      "source": [
        "# CODE HERE"
      ],
      "metadata": {
        "id": "eFUTD8YA-vyW"
      },
      "execution_count": null,
      "outputs": []
    },
    {
      "cell_type": "markdown",
      "source": [
        "Podeliti skup na ulazne i izlazne atribute"
      ],
      "metadata": {
        "id": "g6ycM-LJuF_2"
      }
    },
    {
      "cell_type": "code",
      "source": [
        "# CODE HERE"
      ],
      "metadata": {
        "id": "T3ose6B1-c5m"
      },
      "execution_count": null,
      "outputs": []
    },
    {
      "cell_type": "markdown",
      "source": [
        "Podeliti na test i trening skup u odnosu 1: 2 (random state = 13)\n",
        "\n"
      ],
      "metadata": {
        "id": "E9ZykFRluSVZ"
      }
    },
    {
      "cell_type": "code",
      "source": [
        "# CODE HERE"
      ],
      "metadata": {
        "id": "SZDl-VJT-2yD"
      },
      "execution_count": null,
      "outputs": []
    },
    {
      "cell_type": "markdown",
      "source": [
        "Istrenirati kategoricki naivni bajes"
      ],
      "metadata": {
        "id": "mYW6h4KMuaY-"
      }
    },
    {
      "cell_type": "code",
      "source": [
        "# CODE HERE"
      ],
      "metadata": {
        "id": "p-gdcVlc_Eab"
      },
      "execution_count": null,
      "outputs": []
    },
    {
      "cell_type": "markdown",
      "source": [
        "Prikazati matricu konfuzije, kao i izvestaj klasifikacije nad trening i test skupom"
      ],
      "metadata": {
        "id": "5XJUyRAfu3zq"
      }
    },
    {
      "cell_type": "code",
      "source": [
        "# CODE HERE"
      ],
      "metadata": {
        "id": "jyOosEi1BP12"
      },
      "execution_count": null,
      "outputs": []
    }
  ]
}